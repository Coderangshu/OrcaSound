{
 "cells": [
  {
   "cell_type": "code",
   "execution_count": 1,
   "metadata": {},
   "outputs": [],
   "source": [
    "import requests\n",
    "from bs4 import BeautifulSoup\n",
    "import re"
   ]
  },
  {
   "cell_type": "code",
   "execution_count": 4,
   "metadata": {},
   "outputs": [],
   "source": [
    "link = 'http://orcasound.net/wholistener/sa/detections/raw/'\n",
    "r = requests.get(link)\n",
    "soup = BeautifulSoup(r.content, 'html.parser')\n",
    "\n",
    "for a in soup.find_all(\"a\", href=re.compile('.*.mp3')):\n",
    "    print(a[\"href\"])"
   ]
  },
  {
   "cell_type": "code",
   "execution_count": 3,
   "metadata": {},
   "outputs": [
    {
     "name": "stdout",
     "output_type": "stream",
     "text": [
      "Downloading File PWRAveDb126_11_27_2011_08_56_53.wav\n",
      "Downloading File PWRAveDb128_09_12_2011_10_18_01.wav\n",
      "Downloading File PWRAveDb131_02_08_2012_08_03_51.wav\n",
      "Downloading File PWRAveDb131_02_15_2012_12_58_22.wav\n",
      "Downloading File PWRAveDb133_02_15_2012_15_15_06.wav\n",
      "Downloading File PWRAveDb134_04_06_2011_13_47_45.wav\n",
      "Downloading File PWRAveDb140_02_20_2012_14_19_46.wav\n"
     ]
    }
   ],
   "source": [
    "r = requests.get(link)\n",
    "soup = BeautifulSoup(r.text, 'html.parser')\n",
    "\n",
    "with requests.Session() as req:\n",
    "    for a in soup.find_all(\"a\", href=re.compile('.*.mp3')):\n",
    "        href = link + a.get(\"href\")\n",
    "        name = a.get(\"href\")\n",
    "        name = name[:-4] + \".wav\"\n",
    "        print(f\"Downloading File {name}\")\n",
    "        download = req.get(href)\n",
    "        if download.status_code == 200:\n",
    "            with open(name, 'wb') as f:\n",
    "                f.write(download.content)\n",
    "        else:\n",
    "            print(f\"Download Failed For File {name}\")"
   ]
  },
  {
   "cell_type": "code",
   "execution_count": null,
   "metadata": {},
   "outputs": [],
   "source": []
  }
 ],
 "metadata": {
  "kernelspec": {
   "display_name": "Python 3",
   "language": "python",
   "name": "python3"
  },
  "language_info": {
   "codemirror_mode": {
    "name": "ipython",
    "version": 3
   },
   "file_extension": ".py",
   "mimetype": "text/x-python",
   "name": "python",
   "nbconvert_exporter": "python",
   "pygments_lexer": "ipython3",
   "version": "3.8.3"
  }
 },
 "nbformat": 4,
 "nbformat_minor": 4
}
